{
  "metadata": {
    "language_info": {
      "codemirror_mode": {
        "name": "ipython",
        "version": 3
      },
      "file_extension": ".py",
      "mimetype": "text/x-python",
      "name": "python",
      "nbconvert_exporter": "python",
      "pygments_lexer": "ipython3",
      "version": 3
    },
    "orig_nbformat": 2,
    "colab": {
      "name": "Copy of demo.ipynb",
      "provenance": [],
      "collapsed_sections": []
    }
  },
  "nbformat": 4,
  "nbformat_minor": 0,
  "cells": [
    {
      "cell_type": "markdown",
      "source": [
        "**Introduction**\n",
        "\n",
        "This is a Google Colab notebook in which you can run the deep learning system on default and custom DICOM files. The notebook consits of text cells (similar to this one) and code cells (similar to the next one). In order to run the code cells, you have to press the play button in the top left corner of the code cell."
      ],
      "metadata": {
        "id": "s0CTd-R5aAiW"
      }
    },
    {
      "cell_type": "markdown",
      "source": [
        "**Step 0: Set Runtime type**\n",
        "\n",
        "Colab provides GPUs (fast computational devices) to accelerate procesing. To enable it, go to *Runtime/Change runtime type* and select *GPU* as *Hardware accelerator*.\n"
      ],
      "metadata": {
        "id": "cJYD9erDaB3u"
      }
    },
    {
      "cell_type": "markdown",
      "source": [
        "**Step 1: Imports**\n",
        "\n",
        "First, run the following code cell to import every necessary python packages and preprocessing code. This may take a few seconds, you will see a green tick next to the play button if it is done."
      ],
      "metadata": {
        "id": "zHLz8hW2aD-u"
      }
    },
    {
      "cell_type": "code",
      "execution_count": null,
      "metadata": {
        "id": "z4gKgVEJZ3VF"
      },
      "outputs": [],
      "source": [
        "import os\n",
        "from tqdm import tqdm\n",
        "import matplotlib.pyplot as plt\n",
        "import torch\n",
        "from torchvision import models\n",
        "\n",
        "!git clone https://github.com/mr-BM/RVEnet-demo-test.git\n",
        "%cd RVEnet-demo-test\n",
        "\n",
        "!pip install pydicom\n",
        "!pip install planar\n",
        "from preprocessing import get_preprocessed_frames\n",
        "\n",
        "device = torch.device(\"cuda:0\" if torch.cuda.is_available() else \"cpu\")"
      ]
    },
    {
      "cell_type": "markdown",
      "source": [
        "**Step 2: Upload DICOM file - Optional**\n",
        "\n",
        "You can use a sample file to test the system, but in order to run the model on your DICOM file, first you have to upload it to Colab. You can do that by clicking on the folder icon in the left side of the window, and then on the upload icon. Uploading may take a few seconds or minutes (depending on your network connection)."
      ],
      "metadata": {
        "id": "QQLJKXBJaHUm"
      }
    },
    {
      "cell_type": "markdown",
      "source": [
        "**Step 3: Set parameters**\n",
        "\n",
        "In this cell you can set the parameters of the sample/uploaded DICOM file as well as the link to the neural network model. Set every necessary value (marked by # required) in the next code cell, and run it."
      ],
      "metadata": {
        "id": "k2L5Fu1MaIPf"
      }
    },
    {
      "cell_type": "code",
      "execution_count": null,
      "metadata": {
        "id": "CvA6DewHZ3VH"
      },
      "outputs": [],
      "source": [
        "# REQUIRED\n",
        "model_URL = \"https://www.dropbox.com/s/d1w0nh1rzclo4ox/full_ensemble_model.pt?dl=1\"\n",
        "\n",
        "# OPTIONAL\n",
        "DICOM_filename = \"sample1.dcm\"\n",
        "# NOTE: If you want to run the system on your custom DICOM file, change this file name to the uploaded DICOM file's name, otherwise keep it \"sample1.dcm\".\n",
        "\n",
        "# OPTIONAL\n",
        "custom_FPS = None\n",
        "# NOTE: FPS of the video data in the DICOM file. Set this value only if the DICOM does not contain it. In case you are not sure about this, try to run the code with the default None value and provide custom value if error occurs.\n",
        "# example: 55\n",
        "\n",
        "# OPTIONAL\n",
        "pulse = None\n",
        "# NOTE: Heart rate from the dicom. Set this value only if DICOM does not contain it. In case you are not sure about this, try to run the code with the default None value and provide custom value if error occurs.\n",
        "# example: 55\n",
        "\n",
        "# OPTIONAL\n",
        "orientation = 'Mayo'\n",
        "# NOTE: Use 'Mayo' or 'Stanford'\n",
        "\n",
        "\n",
        "#### DOWNLOAD CODE ####\n",
        "if not os.path.exists(\"/content/model.pt\"):\n",
        "    !wget {model_URL} -O /content/model.pt\n",
        "\n",
        "if DICOM_filename==\"sample1.dcm\" and not os.path.exists(\"/content/sample1.dcm\"):\n",
        "    !wget https://www.dropbox.com/s/eqj3uhe1ckijn0y/sample1.dcm?dl=1 -O /content/sample1.dcm\n"
      ]
    },
    {
      "cell_type": "markdown",
      "source": [
        "**Step 4: Preprocessing**\n",
        "\n",
        "By running the next code cell, the DICOM video will be extracted and preprocessed."
      ],
      "metadata": {
        "id": "mYMZZmqiaJ0B"
      }
    },
    {
      "cell_type": "code",
      "execution_count": null,
      "metadata": {
        "id": "K--h8g90Z3VI"
      },
      "outputs": [],
      "source": [
        "preprocessed_frames = get_preprocessed_frames(os.path.join(\"/content\", DICOM_filename), custom_FPS, pulse, orientation)\n",
        "\n",
        "plt.figure()\n",
        "plt.imshow(preprocessed_frames[0][0][2], cmap='gray') \n",
        "plt.show()\n",
        "\n",
        "plt.figure()\n",
        "plt.imshow(preprocessed_frames[0][0][0], cmap='gray') \n",
        "plt.show()"
      ]
    },
    {
      "cell_type": "markdown",
      "source": [
        "**Step 5: Run model on data**\n",
        "\n",
        "As the final step, you can run the model on the uplaoded video data using the next code cell."
      ],
      "metadata": {
        "id": "22neZhuEaMgW"
      }
    },
    {
      "cell_type": "code",
      "execution_count": null,
      "metadata": {
        "id": "sHh5uxZQZ3VJ"
      },
      "outputs": [],
      "source": [
        "preprocessed_frames = preprocessed_frames.to(device, dtype=torch.float)\n",
        "\n",
        "model = torch.load(\"/content/model.pt\")\n",
        "model.eval()\n",
        "\n",
        "heart_cycle_predictions = []\n",
        "\n",
        "for heart_cycle in preprocessed_frames:\n",
        "    output = model(heart_cycle)\n",
        "    heart_cycle_predictions.append(output.item())\n",
        "\n",
        "predicted_EF = sum(heart_cycle_predictions)/len(heart_cycle_predictions)\n",
        "\n",
        "print(\"Predicted EF: \" + str(predicted_EF))"
      ]
    }
  ]
}